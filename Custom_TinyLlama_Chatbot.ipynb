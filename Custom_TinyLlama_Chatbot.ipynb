{
  "metadata": {
    "kernelspec": {
      "name": "python3",
      "display_name": "Python 3",
      "language": "python"
    },
    "language_info": {
      "name": "python",
      "version": "3.11.13",
      "mimetype": "text/x-python",
      "codemirror_mode": {
        "name": "ipython",
        "version": 3
      },
      "pygments_lexer": "ipython3",
      "nbconvert_exporter": "python",
      "file_extension": ".py"
    },
    "colab": {
      "provenance": [],
      "gpuType": "T4",
      "name": "Custom TinyLlama Chatbot",
      "include_colab_link": true
    },
    "accelerator": "GPU",
    "widgets": {
      "application/vnd.jupyter.widget-state+json": {
        "9e5ec1015a0646f791199aa6d0a442a1": {
          "model_module": "@jupyter-widgets/controls",
          "model_name": "HBoxModel",
          "model_module_version": "1.5.0",
          "state": {
            "_dom_classes": [],
            "_model_module": "@jupyter-widgets/controls",
            "_model_module_version": "1.5.0",
            "_model_name": "HBoxModel",
            "_view_count": null,
            "_view_module": "@jupyter-widgets/controls",
            "_view_module_version": "1.5.0",
            "_view_name": "HBoxView",
            "box_style": "",
            "children": [
              "IPY_MODEL_649cb204da9e4d0a91fd8b4aa8d9aa6d",
              "IPY_MODEL_a62ad9eab1944e8fbff377612da1563c",
              "IPY_MODEL_ec3fbbc013134a069a41645255f9d6f8"
            ],
            "layout": "IPY_MODEL_e53853a6978e4da1954bce10761b6b4b"
          }
        },
        "649cb204da9e4d0a91fd8b4aa8d9aa6d": {
          "model_module": "@jupyter-widgets/controls",
          "model_name": "HTMLModel",
          "model_module_version": "1.5.0",
          "state": {
            "_dom_classes": [],
            "_model_module": "@jupyter-widgets/controls",
            "_model_module_version": "1.5.0",
            "_model_name": "HTMLModel",
            "_view_count": null,
            "_view_module": "@jupyter-widgets/controls",
            "_view_module_version": "1.5.0",
            "_view_name": "HTMLView",
            "description": "",
            "description_tooltip": null,
            "layout": "IPY_MODEL_37d3ce6805d44d2a8e2c4b3884dcc495",
            "placeholder": "​",
            "style": "IPY_MODEL_793bdb26d0cd40aa98298921e93c6612",
            "value": "Map: 100%"
          }
        },
        "a62ad9eab1944e8fbff377612da1563c": {
          "model_module": "@jupyter-widgets/controls",
          "model_name": "FloatProgressModel",
          "model_module_version": "1.5.0",
          "state": {
            "_dom_classes": [],
            "_model_module": "@jupyter-widgets/controls",
            "_model_module_version": "1.5.0",
            "_model_name": "FloatProgressModel",
            "_view_count": null,
            "_view_module": "@jupyter-widgets/controls",
            "_view_module_version": "1.5.0",
            "_view_name": "ProgressView",
            "bar_style": "success",
            "description": "",
            "description_tooltip": null,
            "layout": "IPY_MODEL_dc0d3ae232b14d40b2477f7f3538ff48",
            "max": 3,
            "min": 0,
            "orientation": "horizontal",
            "style": "IPY_MODEL_9a9ab55b32e94df39476ec6812cf0375",
            "value": 3
          }
        },
        "ec3fbbc013134a069a41645255f9d6f8": {
          "model_module": "@jupyter-widgets/controls",
          "model_name": "HTMLModel",
          "model_module_version": "1.5.0",
          "state": {
            "_dom_classes": [],
            "_model_module": "@jupyter-widgets/controls",
            "_model_module_version": "1.5.0",
            "_model_name": "HTMLModel",
            "_view_count": null,
            "_view_module": "@jupyter-widgets/controls",
            "_view_module_version": "1.5.0",
            "_view_name": "HTMLView",
            "description": "",
            "description_tooltip": null,
            "layout": "IPY_MODEL_95ced641c02b4e429948c9efd44e52c5",
            "placeholder": "​",
            "style": "IPY_MODEL_e8381506c8134898933d1f43e673bac2",
            "value": " 3/3 [00:00&lt;00:00, 37.42 examples/s]"
          }
        },
        "e53853a6978e4da1954bce10761b6b4b": {
          "model_module": "@jupyter-widgets/base",
          "model_name": "LayoutModel",
          "model_module_version": "1.2.0",
          "state": {
            "_model_module": "@jupyter-widgets/base",
            "_model_module_version": "1.2.0",
            "_model_name": "LayoutModel",
            "_view_count": null,
            "_view_module": "@jupyter-widgets/base",
            "_view_module_version": "1.2.0",
            "_view_name": "LayoutView",
            "align_content": null,
            "align_items": null,
            "align_self": null,
            "border": null,
            "bottom": null,
            "display": null,
            "flex": null,
            "flex_flow": null,
            "grid_area": null,
            "grid_auto_columns": null,
            "grid_auto_flow": null,
            "grid_auto_rows": null,
            "grid_column": null,
            "grid_gap": null,
            "grid_row": null,
            "grid_template_areas": null,
            "grid_template_columns": null,
            "grid_template_rows": null,
            "height": null,
            "justify_content": null,
            "justify_items": null,
            "left": null,
            "margin": null,
            "max_height": null,
            "max_width": null,
            "min_height": null,
            "min_width": null,
            "object_fit": null,
            "object_position": null,
            "order": null,
            "overflow": null,
            "overflow_x": null,
            "overflow_y": null,
            "padding": null,
            "right": null,
            "top": null,
            "visibility": null,
            "width": null
          }
        },
        "37d3ce6805d44d2a8e2c4b3884dcc495": {
          "model_module": "@jupyter-widgets/base",
          "model_name": "LayoutModel",
          "model_module_version": "1.2.0",
          "state": {
            "_model_module": "@jupyter-widgets/base",
            "_model_module_version": "1.2.0",
            "_model_name": "LayoutModel",
            "_view_count": null,
            "_view_module": "@jupyter-widgets/base",
            "_view_module_version": "1.2.0",
            "_view_name": "LayoutView",
            "align_content": null,
            "align_items": null,
            "align_self": null,
            "border": null,
            "bottom": null,
            "display": null,
            "flex": null,
            "flex_flow": null,
            "grid_area": null,
            "grid_auto_columns": null,
            "grid_auto_flow": null,
            "grid_auto_rows": null,
            "grid_column": null,
            "grid_gap": null,
            "grid_row": null,
            "grid_template_areas": null,
            "grid_template_columns": null,
            "grid_template_rows": null,
            "height": null,
            "justify_content": null,
            "justify_items": null,
            "left": null,
            "margin": null,
            "max_height": null,
            "max_width": null,
            "min_height": null,
            "min_width": null,
            "object_fit": null,
            "object_position": null,
            "order": null,
            "overflow": null,
            "overflow_x": null,
            "overflow_y": null,
            "padding": null,
            "right": null,
            "top": null,
            "visibility": null,
            "width": null
          }
        },
        "793bdb26d0cd40aa98298921e93c6612": {
          "model_module": "@jupyter-widgets/controls",
          "model_name": "DescriptionStyleModel",
          "model_module_version": "1.5.0",
          "state": {
            "_model_module": "@jupyter-widgets/controls",
            "_model_module_version": "1.5.0",
            "_model_name": "DescriptionStyleModel",
            "_view_count": null,
            "_view_module": "@jupyter-widgets/base",
            "_view_module_version": "1.2.0",
            "_view_name": "StyleView",
            "description_width": ""
          }
        },
        "dc0d3ae232b14d40b2477f7f3538ff48": {
          "model_module": "@jupyter-widgets/base",
          "model_name": "LayoutModel",
          "model_module_version": "1.2.0",
          "state": {
            "_model_module": "@jupyter-widgets/base",
            "_model_module_version": "1.2.0",
            "_model_name": "LayoutModel",
            "_view_count": null,
            "_view_module": "@jupyter-widgets/base",
            "_view_module_version": "1.2.0",
            "_view_name": "LayoutView",
            "align_content": null,
            "align_items": null,
            "align_self": null,
            "border": null,
            "bottom": null,
            "display": null,
            "flex": null,
            "flex_flow": null,
            "grid_area": null,
            "grid_auto_columns": null,
            "grid_auto_flow": null,
            "grid_auto_rows": null,
            "grid_column": null,
            "grid_gap": null,
            "grid_row": null,
            "grid_template_areas": null,
            "grid_template_columns": null,
            "grid_template_rows": null,
            "height": null,
            "justify_content": null,
            "justify_items": null,
            "left": null,
            "margin": null,
            "max_height": null,
            "max_width": null,
            "min_height": null,
            "min_width": null,
            "object_fit": null,
            "object_position": null,
            "order": null,
            "overflow": null,
            "overflow_x": null,
            "overflow_y": null,
            "padding": null,
            "right": null,
            "top": null,
            "visibility": null,
            "width": null
          }
        },
        "9a9ab55b32e94df39476ec6812cf0375": {
          "model_module": "@jupyter-widgets/controls",
          "model_name": "ProgressStyleModel",
          "model_module_version": "1.5.0",
          "state": {
            "_model_module": "@jupyter-widgets/controls",
            "_model_module_version": "1.5.0",
            "_model_name": "ProgressStyleModel",
            "_view_count": null,
            "_view_module": "@jupyter-widgets/base",
            "_view_module_version": "1.2.0",
            "_view_name": "StyleView",
            "bar_color": null,
            "description_width": ""
          }
        },
        "95ced641c02b4e429948c9efd44e52c5": {
          "model_module": "@jupyter-widgets/base",
          "model_name": "LayoutModel",
          "model_module_version": "1.2.0",
          "state": {
            "_model_module": "@jupyter-widgets/base",
            "_model_module_version": "1.2.0",
            "_model_name": "LayoutModel",
            "_view_count": null,
            "_view_module": "@jupyter-widgets/base",
            "_view_module_version": "1.2.0",
            "_view_name": "LayoutView",
            "align_content": null,
            "align_items": null,
            "align_self": null,
            "border": null,
            "bottom": null,
            "display": null,
            "flex": null,
            "flex_flow": null,
            "grid_area": null,
            "grid_auto_columns": null,
            "grid_auto_flow": null,
            "grid_auto_rows": null,
            "grid_column": null,
            "grid_gap": null,
            "grid_row": null,
            "grid_template_areas": null,
            "grid_template_columns": null,
            "grid_template_rows": null,
            "height": null,
            "justify_content": null,
            "justify_items": null,
            "left": null,
            "margin": null,
            "max_height": null,
            "max_width": null,
            "min_height": null,
            "min_width": null,
            "object_fit": null,
            "object_position": null,
            "order": null,
            "overflow": null,
            "overflow_x": null,
            "overflow_y": null,
            "padding": null,
            "right": null,
            "top": null,
            "visibility": null,
            "width": null
          }
        },
        "e8381506c8134898933d1f43e673bac2": {
          "model_module": "@jupyter-widgets/controls",
          "model_name": "DescriptionStyleModel",
          "model_module_version": "1.5.0",
          "state": {
            "_model_module": "@jupyter-widgets/controls",
            "_model_module_version": "1.5.0",
            "_model_name": "DescriptionStyleModel",
            "_view_count": null,
            "_view_module": "@jupyter-widgets/base",
            "_view_module_version": "1.2.0",
            "_view_name": "StyleView",
            "description_width": ""
          }
        }
      }
    },
    "kaggle": {
      "accelerator": "nvidiaTeslaT4",
      "dataSources": [],
      "dockerImageVersionId": 31090,
      "isInternetEnabled": true,
      "language": "python",
      "sourceType": "notebook",
      "isGpuEnabled": true
    }
  },
  "nbformat_minor": 0,
  "nbformat": 4,
  "cells": [
    {
      "cell_type": "markdown",
      "metadata": {
        "id": "view-in-github",
        "colab_type": "text"
      },
      "source": [
        "<a href=\"https://colab.research.google.com/github/ratnesh90859/AI/blob/main/Custom_TinyLlama_Chatbot.ipynb\" target=\"_parent\"><img src=\"https://colab.research.google.com/assets/colab-badge.svg\" alt=\"Open In Colab\"/></a>"
      ]
    },
    {
      "cell_type": "code",
      "source": [
        "import subprocess\n",
        "import sys\n",
        "import os\n",
        "\n",
        "def run_command(cmd):\n",
        "    try:\n",
        "        result = subprocess.run(cmd, shell=True, capture_output=True, text=True)\n",
        "        if result.returncode != 0:\n",
        "            return False\n",
        "        return result.returncode == 0\n",
        "    except Exception as e:\n",
        "        return False\n",
        "\n",
        "gpu_available = run_command(\"nvidia-smi\")\n",
        "if not gpu_available:\n",
        "    import time\n",
        "    time.sleep(10)\n",
        "\n",
        "packages = [\n",
        "    \"transformers==4.36.0\",\n",
        "    \"datasets==2.14.0\",\n",
        "    \"peft==0.7.0\",\n",
        "    \"trl==0.7.0\",\n",
        "    \"bitsandbytes==0.41.0\",\n",
        "    \"accelerate==0.24.0\",\n",
        "    \"torch==2.1.0\",\n",
        "    \"sentencepiece==0.1.99\"\n",
        "]\n",
        "\n",
        "for package in packages:\n",
        "    if not run_command(f\"pip install {package}\"):\n",
        "        sys.exit(1)"
      ],
      "metadata": {
        "id": "dWLldq54m1J7",
        "trusted": true,
        "execution": {
          "iopub.status.busy": "2025-08-07T07:25:20.215187Z",
          "iopub.execute_input": "2025-08-07T07:25:20.215345Z",
          "iopub.status.idle": "2025-08-07T07:29:23.606082Z",
          "shell.execute_reply.started": "2025-08-07T07:25:20.21533Z",
          "shell.execute_reply": "2025-08-07T07:29:23.605297Z"
        }
      },
      "outputs": [],
      "execution_count": null
    },
    {
      "cell_type": "code",
      "source": [
        "import torch\n",
        "from transformers import (\n",
        "    AutoTokenizer,\n",
        "    AutoModelForCausalLM,\n",
        "    TrainingArguments,\n",
        "    Trainer,\n",
        "    BitsAndBytesConfig\n",
        ")\n",
        "from datasets import Dataset\n",
        "from peft import LoraConfig, get_peft_model, TaskType\n",
        "import json\n",
        "import gc\n",
        "\n",
        "if torch.cuda.is_available():\n",
        "    device = \"cuda\"\n",
        "else:\n",
        "    device = \"cpu\""
      ],
      "metadata": {
        "id": "w8AsMGUnnskt",
        "trusted": true,
        "execution": {
          "iopub.status.busy": "2025-08-07T07:29:43.800267Z",
          "iopub.execute_input": "2025-08-07T07:29:43.80079Z",
          "iopub.status.idle": "2025-08-07T07:29:43.805917Z",
          "shell.execute_reply.started": "2025-08-07T07:29:43.800761Z",
          "shell.execute_reply": "2025-08-07T07:29:43.805306Z"
        }
      },
      "outputs": [],
      "execution_count": null
    },
    {
      "cell_type": "code",
      "source": [
        "MODEL_NAME = \"TinyLlama/TinyLlama-1.1B-Chat-v1.0\"\n",
        "OUTPUT_DIR = \"./finetuned-model\"\n",
        "HF_TOKEN = None\n",
        "\n",
        "config = {\n",
        "    \"max_seq_length\": 512,\n",
        "    \"batch_size\": 1,\n",
        "    \"gradient_accumulation_steps\": 4,\n",
        "    \"learning_rate\": 2e-4,\n",
        "    \"num_epochs\": 3,\n",
        "    \"warmup_steps\": 10,\n",
        "    \"logging_steps\": 10,\n",
        "    \"save_steps\": 100,\n",
        "    \"eval_steps\": 100,\n",
        "}"
      ],
      "metadata": {
        "id": "P4EF67xToNig",
        "trusted": true,
        "execution": {
          "iopub.status.busy": "2025-08-07T07:29:51.144546Z",
          "iopub.execute_input": "2025-08-07T07:29:51.144801Z",
          "iopub.status.idle": "2025-08-07T07:29:51.148978Z",
          "shell.execute_reply.started": "2025-08-07T07:29:51.144783Z",
          "shell.execute_reply": "2025-08-07T07:29:51.148359Z"
        }
      },
      "outputs": [],
      "execution_count": null
    },
    {
      "cell_type": "code",
      "source": [
        "sample_data = [\n",
        "    {\n",
        "        \"instruction\": \"What is the capital of France?\",\n",
        "        \"input\": \"\",\n",
        "        \"output\": \"The capital of France is Paris.\"\n",
        "    },\n",
        "    {\n",
        "        \"instruction\": \"Explain what machine learning is\",\n",
        "        \"input\": \"\",\n",
        "        \"output\": \"Machine learning is a subset of artificial intelligence that enables computers to learn and make decisions from data without being explicitly programmed.\"\n",
        "    },\n",
        "    {\n",
        "        \"instruction\": \"Write a simple Python function to add two numbers\",\n",
        "        \"input\": \"\",\n",
        "        \"output\": \"```python\\ndef add_numbers(a, b):\\n    return a + b\\n```\"\n",
        "    },\n",
        "    {\n",
        "        \"instruction\": \"What are the benefits of exercise?\",\n",
        "        \"input\": \"\",\n",
        "        \"output\": \"Exercise has many benefits including improved cardiovascular health, stronger muscles and bones, better mental health, and increased energy levels.\"\n",
        "    },\n",
        "    {\n",
        "        \"instruction\": \"How do you make a cup of tea?\",\n",
        "        \"input\": \"\",\n",
        "        \"output\": \"To make tea: 1) Boil water, 2) Add tea bag or leaves to cup, 3) Pour hot water over tea, 4) Steep for 3-5 minutes, 5) Remove tea bag/strain, 6) Add milk/sugar if desired.\"\n",
        "    }\n",
        "]\n",
        "\n"
      ],
      "metadata": {
        "id": "33yB2RXh0r-E",
        "trusted": true,
        "execution": {
          "iopub.status.busy": "2025-08-07T07:29:57.030908Z",
          "iopub.execute_input": "2025-08-07T07:29:57.031215Z",
          "iopub.status.idle": "2025-08-07T07:29:57.035644Z",
          "shell.execute_reply.started": "2025-08-07T07:29:57.031194Z",
          "shell.execute_reply": "2025-08-07T07:29:57.03485Z"
        }
      },
      "outputs": [],
      "execution_count": null
    },
    {
      "cell_type": "code",
      "source": [
        "def format_prompt(example):\n",
        "    \"\"\"Format the prompt in chat format\"\"\"\n",
        "    if example[\"input\"]:\n",
        "        prompt = f\"<|system|>\\nYou are a helpful assistant.</s>\\n<|user|>\\n{example['instruction']}\\n{example['input']}</s>\\n<|assistant|>\\n{example['output']}</s>\"\n",
        "    else:\n",
        "        prompt = f\"<|system|>\\nYou are a helpful assistant.</s>\\n<|user|>\\n{example['instruction']}</s>\\n<|assistant|>\\n{example['output']}</s>\"\n",
        "    return {\"text\": prompt}\n",
        "\n",
        "\n",
        "dataset = Dataset.from_list(sample_data)\n",
        "dataset = dataset.map(format_prompt, remove_columns=dataset.column_names)\n",
        "\n",
        "\n",
        "train_dataset = dataset.select(range(int(0.8 * len(dataset))))\n",
        "eval_dataset = dataset.select(range(int(0.8 * len(dataset)), len(dataset)))\n",
        "\n"
      ],
      "metadata": {
        "colab": {
          "base_uri": "https://localhost:8080/",
          "height": 653,
          "referenced_widgets": [
            "ab432e61fb6842bb83f848615bd31d93"
          ]
        },
        "id": "jKj5We0jn1qV",
        "outputId": "8a1ddfbe-39a9-4472-b4ad-6df1c1b03375",
        "trusted": true,
        "execution": {
          "iopub.status.busy": "2025-08-07T07:30:00.78335Z",
          "iopub.execute_input": "2025-08-07T07:30:00.783598Z",
          "iopub.status.idle": "2025-08-07T07:30:00.851455Z",
          "shell.execute_reply.started": "2025-08-07T07:30:00.78358Z",
          "shell.execute_reply": "2025-08-07T07:30:00.850845Z"
        }
      },
      "outputs": [
        {
          "output_type": "display_data",
          "data": {
            "text/plain": "Map:   0%|          | 0/5 [00:00<?, ? examples/s]",
            "application/vnd.jupyter.widget-view+json": {
              "version_major": 2,
              "version_minor": 0,
              "model_id": "ab432e61fb6842bb83f848615bd31d93"
            }
          },
          "metadata": {}
        }
      ],
      "execution_count": null
    },
    {
      "cell_type": "code",
      "source": [
        "\n",
        "\n",
        "# Check if GPU is available for quantization\n",
        "if torch.cuda.is_available():\n",
        "    # Quantization config for memory efficiency (GPU only)\n",
        "    bnb_config = BitsAndBytesConfig(\n",
        "        load_in_4bit=True,\n",
        "        bnb_4bit_use_double_quant=True,\n",
        "        bnb_4bit_quant_type=\"nf4\",\n",
        "        bnb_4bit_compute_dtype=torch.bfloat16\n",
        "    )\n",
        "    quantization_config = bnb_config\n",
        "    device_map = \"auto\"\n",
        "    torch_dtype = torch.bfloat16\n",
        "else:\n",
        "    # CPU configuration - no quantization\n",
        "    quantization_config = None\n",
        "    device_map = None\n",
        "    torch_dtype = torch.float32\n",
        "    print(\"⚠️  Running on CPU - training will be very slow!\")\n",
        "\n",
        "# Load tokenizer\n",
        "tokenizer = AutoTokenizer.from_pretrained(MODEL_NAME, trust_remote_code=True)\n",
        "tokenizer.pad_token = tokenizer.eos_token\n",
        "tokenizer.padding_side = \"right\"\n",
        "\n",
        "# Load model\n",
        "model = AutoModelForCausalLM.from_pretrained(\n",
        "    MODEL_NAME,\n",
        "    quantization_config=bnb_config,\n",
        "    device_map=\"auto\",\n",
        "    trust_remote_code=True,\n",
        "    torch_dtype=torch.bfloat16\n",
        ")\n",
        "\n",
        "# LoRA configuration\n",
        "lora_config = LoraConfig(\n",
        "    task_type=TaskType.CAUSAL_LM,\n",
        "    inference_mode=False,\n",
        "    r=8,\n",
        "    lora_alpha=32,\n",
        "    lora_dropout=0.1,\n",
        "    target_modules=[\"q_proj\", \"v_proj\", \"k_proj\", \"o_proj\", \"gate_proj\", \"up_proj\", \"down_proj\"]\n",
        ")\n",
        "\n",
        "# Apply LoRA\n",
        "model = get_peft_model(model, lora_config)\n",
        "model.print_trainable_parameters()\n",
        "\n"
      ],
      "metadata": {
        "colab": {
          "base_uri": "https://localhost:8080/",
          "height": 419,
          "referenced_widgets": [
            "8eb62f090f714be588866458df77d54c",
            "b829a2b0a1e84bfc88f2c12a1c3520be",
            "cfe3998cb7424406aa06fa5807544aa8",
            "70e46108ac0c49b386eb2bd159097f5a",
            "eefbb064cada423795b8f2fc9e935e6a",
            "87f83aa81b1f4c0ab832e39fb632ebcb",
            "48ea932cf1b64d1e8a617d41604e0e56"
          ]
        },
        "id": "CCHmuyCCptBa",
        "outputId": "15920ce0-86be-4f1b-9261-2bf736aabab7",
        "trusted": true,
        "execution": {
          "iopub.status.busy": "2025-08-07T07:30:07.111914Z",
          "iopub.execute_input": "2025-08-07T07:30:07.112234Z",
          "iopub.status.idle": "2025-08-07T07:30:39.985619Z",
          "shell.execute_reply.started": "2025-08-07T07:30:07.112212Z",
          "shell.execute_reply": "2025-08-07T07:30:39.984616Z"
        }
      },
      "outputs": [
        {
          "name": "stderr",
          "text": "/usr/local/lib/python3.11/dist-packages/huggingface_hub/file_download.py:943: FutureWarning: `resume_download` is deprecated and will be removed in version 1.0.0. Downloads always resume when possible. If you want to force a new download, use `force_download=True`.\n  warnings.warn(\n",
          "output_type": "stream"
        },
        {
          "output_type": "display_data",
          "data": {
            "text/plain": "tokenizer_config.json: 0.00B [00:00, ?B/s]",
            "application/vnd.jupyter.widget-view+json": {
              "version_major": 2,
              "version_minor": 0,
              "model_id": "8eb62f090f714be588866458df77d54c"
            }
          },
          "metadata": {}
        },
        {
          "output_type": "display_data",
          "data": {
            "text/plain": "tokenizer.model:   0%|          | 0.00/500k [00:00<?, ?B/s]",
            "application/vnd.jupyter.widget-view+json": {
              "version_major": 2,
              "version_minor": 0,
              "model_id": "b829a2b0a1e84bfc88f2c12a1c3520be"
            }
          },
          "metadata": {}
        },
        {
          "output_type": "display_data",
          "data": {
            "text/plain": "tokenizer.json: 0.00B [00:00, ?B/s]",
            "application/vnd.jupyter.widget-view+json": {
              "version_major": 2,
              "version_minor": 0,
              "model_id": "cfe3998cb7424406aa06fa5807544aa8"
            }
          },
          "metadata": {}
        },
        {
          "output_type": "display_data",
          "data": {
            "text/plain": "special_tokens_map.json:   0%|          | 0.00/551 [00:00<?, ?B/s]",
            "application/vnd.jupyter.widget-view+json": {
              "version_major": 2,
              "version_minor": 0,
              "model_id": "70e46108ac0c49b386eb2bd159097f5a"
            }
          },
          "metadata": {}
        },
        {
          "output_type": "display_data",
          "data": {
            "text/plain": "config.json:   0%|          | 0.00/608 [00:00<?, ?B/s]",
            "application/vnd.jupyter.widget-view+json": {
              "version_major": 2,
              "version_minor": 0,
              "model_id": "eefbb064cada423795b8f2fc9e935e6a"
            }
          },
          "metadata": {}
        },
        {
          "output_type": "display_data",
          "data": {
            "text/plain": "model.safetensors:   0%|          | 0.00/2.20G [00:00<?, ?B/s]",
            "application/vnd.jupyter.widget-view+json": {
              "version_major": 2,
              "version_minor": 0,
              "model_id": "87f83aa81b1f4c0ab832e39fb632ebcb"
            }
          },
          "metadata": {}
        },
        {
          "output_type": "display_data",
          "data": {
            "text/plain": "generation_config.json:   0%|          | 0.00/124 [00:00<?, ?B/s]",
            "application/vnd.jupyter.widget-view+json": {
              "version_major": 2,
              "version_minor": 0,
              "model_id": "48ea932cf1b64d1e8a617d41604e0e56"
            }
          },
          "metadata": {}
        },
        {
          "name": "stdout",
          "text": "trainable params: 6,307,840 || all params: 1,106,356,224 || trainable%: 0.570145479653396\n",
          "output_type": "stream"
        }
      ],
      "execution_count": null
    },
    {
      "cell_type": "code",
      "source": [
        "def tokenize_function(examples):\n",
        "    \"\"\"Tokenize the dataset\"\"\"\n",
        "    return tokenizer(\n",
        "        examples[\"text\"],\n",
        "        truncation=True,\n",
        "        padding=True,\n",
        "        max_length=config[\"max_seq_length\"],\n",
        "        return_tensors=\"pt\"\n",
        "    )\n",
        "\n",
        "print(\"\\n=== Tokenizing Dataset ===\")\n",
        "tokenized_train = train_dataset.map(tokenize_function, batched=True, remove_columns=[\"text\"])\n",
        "tokenized_eval = eval_dataset.map(tokenize_function, batched=True, remove_columns=[\"text\"])\n",
        "\n"
      ],
      "metadata": {
        "colab": {
          "base_uri": "https://localhost:8080/",
          "height": 648,
          "referenced_widgets": [
            "9e5ec1015a0646f791199aa6d0a442a1",
            "649cb204da9e4d0a91fd8b4aa8d9aa6d",
            "a62ad9eab1944e8fbff377612da1563c",
            "ec3fbbc013134a069a41645255f9d6f8",
            "e53853a6978e4da1954bce10761b6b4b",
            "37d3ce6805d44d2a8e2c4b3884dcc495",
            "793bdb26d0cd40aa98298921e93c6612",
            "dc0d3ae232b14d40b2477f7f3538ff48",
            "9a9ab55b32e94df39476ec6812cf0375",
            "95ced641c02b4e429948c9efd44e52c5",
            "e8381506c8134898933d1f43e673bac2",
            "c6e01c6c5ca04252a49a2b27b7da0771",
            "f5fdc2bd04b74457966855456967994c"
          ]
        },
        "id": "uqTeI4OmqCeE",
        "outputId": "ae6c5a41-40f1-4731-cb2d-7846b7609015",
        "trusted": true,
        "execution": {
          "iopub.status.busy": "2025-08-07T07:30:47.038841Z",
          "iopub.execute_input": "2025-08-07T07:30:47.039436Z",
          "iopub.status.idle": "2025-08-07T07:30:47.145197Z",
          "shell.execute_reply.started": "2025-08-07T07:30:47.039411Z",
          "shell.execute_reply": "2025-08-07T07:30:47.144208Z"
        }
      },
      "outputs": [
        {
          "name": "stdout",
          "text": "\n=== Tokenizing Dataset ===\n",
          "output_type": "stream"
        },
        {
          "output_type": "display_data",
          "data": {
            "text/plain": "Map:   0%|          | 0/4 [00:00<?, ? examples/s]",
            "application/vnd.jupyter.widget-view+json": {
              "version_major": 2,
              "version_minor": 0,
              "model_id": "c6e01c6c5ca04252a49a2b27b7da0771"
            }
          },
          "metadata": {}
        },
        {
          "output_type": "display_data",
          "data": {
            "text/plain": "Map:   0%|          | 0/1 [00:00<?, ? examples/s]",
            "application/vnd.jupyter.widget-view+json": {
              "version_major": 2,
              "version_minor": 0,
              "model_id": "f5fdc2bd04b74457966855456967994c"
            }
          },
          "metadata": {}
        }
      ],
      "execution_count": null
    },
    {
      "cell_type": "code",
      "source": [
        "# Check GPU capabilities and set precision accordingly\n",
        "def check_gpu_capabilities():\n",
        "    if not torch.cuda.is_available():\n",
        "        return {\"fp16\": False, \"bf16\": False, \"optim\": \"adamw_torch\"}\n",
        "\n",
        "    try:\n",
        "        # Check if bf16 is supported\n",
        "        device_capability = torch.cuda.get_device_capability()\n",
        "        supports_bf16 = device_capability[0] >= 8  # Ampere GPUs (RTX 30xx, A100, etc.)\n",
        "\n",
        "        if supports_bf16:\n",
        "            # Try to create a bf16 tensor to double-check\n",
        "            torch.tensor([1.0], dtype=torch.bfloat16, device=\"cuda\")\n",
        "            return {\"fp16\": False, \"bf16\": True, \"optim\": \"paged_adamw_32bit\"}\n",
        "        else:\n",
        "            return {\"fp16\": True, \"bf16\": False, \"optim\": \"adamw_torch\"}\n",
        "    except:\n",
        "        # Fallback to fp16 if bf16 test fails\n",
        "        return {\"fp16\": True, \"bf16\": False, \"optim\": \"adamw_torch\"}\n",
        "\n",
        "precision_config = check_gpu_capabilities()\n",
        "\n",
        "\n",
        "# Training arguments\n",
        "training_args = TrainingArguments(\n",
        "    output_dir=OUTPUT_DIR,\n",
        "    per_device_train_batch_size=config[\"batch_size\"],\n",
        "    per_device_eval_batch_size=config[\"batch_size\"],\n",
        "    gradient_accumulation_steps=config[\"gradient_accumulation_steps\"],\n",
        "    optim=precision_config[\"optim\"],\n",
        "    learning_rate=config[\"learning_rate\"],\n",
        "    lr_scheduler_type=\"cosine\",\n",
        "    warmup_steps=config[\"warmup_steps\"],\n",
        "    num_train_epochs=config[\"num_epochs\"],\n",
        "    evaluation_strategy=\"steps\",\n",
        "    eval_steps=config[\"eval_steps\"],\n",
        "    logging_steps=config[\"logging_steps\"],\n",
        "    save_steps=config[\"save_steps\"],\n",
        "    save_total_limit=2,\n",
        "    load_best_model_at_end=True,\n",
        "    metric_for_best_model=\"eval_loss\",\n",
        "    greater_is_better=False,\n",
        "    fp16=precision_config[\"fp16\"],\n",
        "    bf16=precision_config[\"bf16\"],\n",
        "    remove_unused_columns=False,\n",
        "    report_to=\"none\",\n",
        "    dataloader_pin_memory=False,\n",
        ")\n",
        "\n",
        "# Custom data collator\n",
        "class DataCollatorForCausalLM:\n",
        "    def __init__(self, tokenizer):\n",
        "        self.tokenizer = tokenizer\n",
        "\n",
        "    def __call__(self, examples):\n",
        "        batch = {}\n",
        "        input_ids = [example[\"input_ids\"] for example in examples]\n",
        "        attention_mask = [example[\"attention_mask\"] for example in examples]\n",
        "\n",
        "        # Pad sequences\n",
        "        input_ids = torch.nn.utils.rnn.pad_sequence(\n",
        "            [torch.tensor(seq) for seq in input_ids],\n",
        "            batch_first=True,\n",
        "            padding_value=self.tokenizer.pad_token_id\n",
        "        )\n",
        "        attention_mask = torch.nn.utils.rnn.pad_sequence(\n",
        "            [torch.tensor(seq) for seq in attention_mask],\n",
        "            batch_first=True,\n",
        "            padding_value=0\n",
        "        )\n",
        "\n",
        "        batch[\"input_ids\"] = input_ids\n",
        "        batch[\"attention_mask\"] = attention_mask\n",
        "        batch[\"labels\"] = input_ids.clone()\n",
        "\n",
        "        return batch\n",
        "\n",
        "data_collator = DataCollatorForCausalLM(tokenizer)"
      ],
      "metadata": {
        "id": "XQf0t9RdqNqG",
        "trusted": true,
        "execution": {
          "iopub.status.busy": "2025-08-07T07:30:55.902469Z",
          "iopub.execute_input": "2025-08-07T07:30:55.903001Z",
          "iopub.status.idle": "2025-08-07T07:30:55.91301Z",
          "shell.execute_reply.started": "2025-08-07T07:30:55.902977Z",
          "shell.execute_reply": "2025-08-07T07:30:55.912222Z"
        }
      },
      "outputs": [],
      "execution_count": null
    },
    {
      "cell_type": "code",
      "source": [
        "print(\"\\n=== Starting Training ===\")\n",
        "\n",
        "# Create trainer\n",
        "trainer = Trainer(\n",
        "    model=model,\n",
        "    args=training_args,\n",
        "    train_dataset=tokenized_train,\n",
        "    eval_dataset=tokenized_eval,\n",
        "    data_collator=data_collator,\n",
        "    tokenizer=tokenizer,\n",
        ")\n",
        "\n",
        "# Clear cache before training\n",
        "torch.cuda.empty_cache()\n",
        "gc.collect()\n",
        "\n",
        "# Start training\n",
        "try:\n",
        "    trainer.train()\n",
        "    print(\" Training completed successfully!\")\n",
        "except Exception as e:\n",
        "    print(f\" Training failed: {e}\")\n",
        "    raise"
      ],
      "metadata": {
        "trusted": true,
        "execution": {
          "iopub.status.busy": "2025-08-07T07:31:01.157828Z",
          "iopub.execute_input": "2025-08-07T07:31:01.15812Z",
          "iopub.status.idle": "2025-08-07T07:31:05.359503Z",
          "shell.execute_reply.started": "2025-08-07T07:31:01.158078Z",
          "shell.execute_reply": "2025-08-07T07:31:05.358885Z"
        },
        "id": "yW4-cJ-ddti_",
        "outputId": "4cd99e68-cb77-4e39-89b4-d66b24601980"
      },
      "outputs": [
        {
          "name": "stdout",
          "text": "\n=== Starting Training ===\n",
          "output_type": "stream"
        },
        {
          "output_type": "display_data",
          "data": {
            "text/plain": "<IPython.core.display.HTML object>",
            "text/html": "\n    <div>\n      \n      <progress value='3' max='3' style='width:300px; height:20px; vertical-align: middle;'></progress>\n      [3/3 00:01, Epoch 3/3]\n    </div>\n    <table border=\"1\" class=\"dataframe\">\n  <thead>\n <tr style=\"text-align: left;\">\n      <th>Step</th>\n      <th>Training Loss</th>\n      <th>Validation Loss</th>\n    </tr>\n  </thead>\n  <tbody>\n  </tbody>\n</table><p>"
          },
          "metadata": {}
        },
        {
          "name": "stdout",
          "text": " Training completed successfully!\n",
          "output_type": "stream"
        }
      ],
      "execution_count": null
    },
    {
      "cell_type": "code",
      "source": [
        "print(\"\\n=== Saving Model ===\")\n",
        "\n",
        "# Save the model\n",
        "trainer.save_model()\n",
        "tokenizer.save_pretrained(OUTPUT_DIR)\n",
        "\n",
        "# Save training configuration\n",
        "with open(f\"{OUTPUT_DIR}/training_config.json\", \"w\") as f:\n",
        "    json.dump(config, f, indent=2)\n",
        "\n",
        "print(f\" Model saved to {OUTPUT_DIR}\")\n"
      ],
      "metadata": {
        "trusted": true,
        "execution": {
          "iopub.status.busy": "2025-08-07T07:31:13.989349Z",
          "iopub.execute_input": "2025-08-07T07:31:13.989922Z",
          "iopub.status.idle": "2025-08-07T07:31:14.152821Z",
          "shell.execute_reply.started": "2025-08-07T07:31:13.989885Z",
          "shell.execute_reply": "2025-08-07T07:31:14.151941Z"
        },
        "id": "oCY6YOu1dtjA",
        "outputId": "4e11b10b-b050-438a-8b30-fcdf7b3e6772"
      },
      "outputs": [
        {
          "name": "stdout",
          "text": "\n=== Saving Model ===\n Model saved to ./finetuned-model\n",
          "output_type": "stream"
        }
      ],
      "execution_count": null
    },
    {
      "cell_type": "code",
      "source": [
        "print(\"\\n=== Testing Fine-tuned Model ===\")\n",
        "\n",
        "# Load the fine-tuned model for inference\n",
        "model.eval()\n",
        "\n",
        "def generate_response(prompt, max_length=100):\n",
        "    \"\"\"Generate response using the fine-tuned model\"\"\"\n",
        "    formatted_prompt = f\"<|system|>\\nYou are a helpful assistant.</s>\\n<|user|>\\n{prompt}</s>\\n<|assistant|>\\n\"\n",
        "\n",
        "    inputs = tokenizer(formatted_prompt, return_tensors=\"pt\").to(model.device)\n",
        "\n",
        "    with torch.no_grad():\n",
        "        outputs = model.generate(\n",
        "            **inputs,\n",
        "            max_length=max_length,\n",
        "            temperature=0.7,\n",
        "            do_sample=True,\n",
        "            top_p=0.9,\n",
        "            pad_token_id=tokenizer.eos_token_id\n",
        "        )\n",
        "\n",
        "    response = tokenizer.decode(outputs[0], skip_special_tokens=True)\n",
        "    # Extract only the assistant's response\n",
        "    response = response.split(\"<|assistant|>\")[-1].strip()\n",
        "    return response\n",
        "\n",
        "# Test with sample prompts\n",
        "test_prompts = [\n",
        "    \"What is Python?\",\n",
        "    \"How do you create a list in Python?\",\n",
        "    \"What are the benefits of reading books?\",\n",
        "    \"How do you make a cup of tea?\"\n",
        "]\n",
        "\n",
        "for prompt in test_prompts:\n",
        "    print(f\"\\n🔸 Prompt: {prompt}\")\n",
        "    response = generate_response(prompt)\n",
        "    print(f\"🔹 Response: {response}\")\n",
        "\n",
        "print(\"\\n Fine-tuning completed successfully!\")\n",
        "print(f\" Model saved to: {OUTPUT_DIR}\")\n",
        "print(\" You can now use your fine-tuned model for inference!\")"
      ],
      "metadata": {
        "trusted": true,
        "execution": {
          "iopub.status.busy": "2025-08-07T07:31:17.456191Z",
          "iopub.execute_input": "2025-08-07T07:31:17.45646Z",
          "iopub.status.idle": "2025-08-07T07:31:39.261285Z",
          "shell.execute_reply.started": "2025-08-07T07:31:17.456441Z",
          "shell.execute_reply": "2025-08-07T07:31:39.260676Z"
        },
        "id": "iiiqpNK9dtjA",
        "outputId": "8718a66c-9a0a-4434-e6cf-ab6a9e4d284f"
      },
      "outputs": [
        {
          "name": "stdout",
          "text": "\n=== Testing Fine-tuned Model ===\n\n🔸 Prompt: What is Python?\n🔹 Response: Python is a programming language that is designed to be easy to learn and use. It is popular for its ability to create interactive graphical user interfaces (GUIs) and its use in web development. Python is a high-level, interpreted, dynamic language that compiles to machine code, making it fast and efficient\n\n🔸 Prompt: How do you create a list in Python?\n🔹 Response: To create a list in Python, you use the `list()` function. Here's an example:\n\n```python\nmy_list = [1, 2, 3, 4, 5]\nprint(my_list)\n```\n\nThis creates a\n\n🔸 Prompt: What are the benefits of reading books?\n🔹 Response: 1. Improves vocabulary and grammar: Reading books provides a rich and diverse range of vocabulary and grammar, which can help in improving your language skills.\n\n2. Enhances cognitive abilities: Reading books can help improve your cognitive abilities\n\n🔸 Prompt: How do you make a cup of tea?\n🔹 Response: To make a cup of tea, follow these steps:\n\n1. Start by boiling water in a kettle or a teapot.\n\n2. Add a tea bag or loose tea leaves to the kettle or teapot.\n\n3. Steep\n\n Fine-tuning completed successfully!\n Model saved to: ./finetuned-model\n You can now use your fine-tuned model for inference!\n",
          "output_type": "stream"
        }
      ],
      "execution_count": null
    }
  ]
}